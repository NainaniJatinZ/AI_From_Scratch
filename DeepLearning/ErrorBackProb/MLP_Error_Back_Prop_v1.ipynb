{
  "nbformat": 4,
  "nbformat_minor": 0,
  "metadata": {
    "colab": {
      "name": "MLP_Error_Back_Prop",
      "provenance": [],
      "collapsed_sections": [],
      "authorship_tag": "ABX9TyOnqDatCGvlguDi7LY2jb1t",
      "include_colab_link": true
    },
    "kernelspec": {
      "name": "python3",
      "display_name": "Python 3"
    },
    "language_info": {
      "name": "python"
    }
  },
  "cells": [
    {
      "cell_type": "markdown",
      "metadata": {
        "id": "view-in-github",
        "colab_type": "text"
      },
      "source": [
        "<a href=\"https://colab.research.google.com/github/NainaniJatinZ/AI_From_Scratch/blob/main/DeepLearning/ErrorBackProb/MLP_Error_Back_Prop_v1.ipynb\" target=\"_parent\"><img src=\"https://colab.research.google.com/assets/colab-badge.svg\" alt=\"Open In Colab\"/></a>"
      ]
    },
    {
      "cell_type": "code",
      "execution_count": 1,
      "metadata": {
        "id": "GaGqh1VB1_ff"
      },
      "outputs": [],
      "source": [
        "import numpy as np"
      ]
    },
    {
      "cell_type": "code",
      "source": [
        "class mlp:\n",
        "  def __init__(self, layer, eta = 0.01):\n",
        "    self.wts = list()\n",
        "    self.layer = layer\n",
        "    self.learning_rate = eta\n",
        "\n",
        "\n",
        "  def random_weights(self, units):\n",
        "    return np.random.rand(units)\n",
        "  \n",
        "  def one_forward(self, x, w):\n",
        "    return self.sigmoid(np.dot(w, x.T))\n",
        "  \n",
        "  def init_wts(self):\n",
        "    #layers = [2,2,1] so 3 layers with 2 nodes in 1st and 2nd and 1 in last\n",
        "    for i in range(len(self.layers)):\n",
        "      self.wts.append(self.random_weights(self.layers[i]))\n",
        "    self.o = [0]*(sum(self.layers))\n",
        "    self.delta = [0]*(sum(self.layers))\n",
        "\n",
        "  def sigmoid(self, x):\n",
        "    return 1/(1+np.exp(-x))\n",
        "\n",
        "  def sigmoid_derivative(self, x):\n",
        "    return x*(1-x)\n",
        "\n",
        "  def backward(self, x, target):\n",
        "    #feed forward full\n",
        "    self.o[0] = self.one_forward(x, self.wts[0])\n",
        "    for i in range(1, len(self.layers)):\n",
        "      self.o[i-1]= self.one_forward(self.o[i-1], self.wts[i])\n",
        "    # back start\n",
        "    self.delta[-1] = self.sigmoid_derivative(self.o[-1])*(target - self.o[-1])\n",
        "    self.wts[-1] = self.wts[-1] - self.learning_rate*self.delta[-1]*self.o[-1]\n",
        "    for j in range(reversed(len(self.layers)-1)):\n",
        "      self.delta[j] = self.sigmoid_derivative(self.o[j])*np.dot(self.wts[j+1], self.delta[j+1])\n",
        "      self.wts[j] = self.wts[j] - self.learning_rate*self.delta[j]*self.o[j]\n",
        "     "
      ],
      "metadata": {
        "id": "duNJm0IN2E05"
      },
      "execution_count": null,
      "outputs": []
    }
  ]
}